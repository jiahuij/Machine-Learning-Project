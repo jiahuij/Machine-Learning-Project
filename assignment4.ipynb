{
 "cells": [
  {
   "cell_type": "markdown",
   "metadata": {},
   "source": [
    "# Working with a synthetic data set\n"
   ]
  },
  {
   "cell_type": "markdown",
   "metadata": {},
   "source": [
    "## Importing Libraries\n",
    "We are going to use matplotlib and numpy"
   ]
  },
  {
   "cell_type": "code",
   "execution_count": 1,
   "metadata": {},
   "outputs": [],
   "source": [
    "import numpy as np\n",
    "import matplotlib.pyplot as plt"
   ]
  },
  {
   "cell_type": "markdown",
   "metadata": {},
   "source": [
    "Given the data stored in the file as csv (in the simple format: $x_1,x_2,y$), let us load it using loadtxt"
   ]
  },
  {
   "cell_type": "code",
   "execution_count": 41,
   "metadata": {
    "scrolled": true
   },
   "outputs": [
    {
     "name": "stdout",
     "output_type": "stream",
     "text": [
      "10 2\n"
     ]
    }
   ],
   "source": [
    "filename=\"train10.txt\"\n",
    "aaa=np.loadtxt(filename, delimiter=',') \n",
    "[N,dim]=np.shape(aaa)\n",
    "print(N,dim)"
   ]
  },
  {
   "cell_type": "markdown",
   "metadata": {},
   "source": [
    "Let's plot the data, making sure to label the axes and label the points appropriately (using different color/symbols for point +1 and -1). \n",
    "Draw a random line seperating the data."
   ]
  },
  {
   "cell_type": "code",
   "execution_count": 42,
   "metadata": {},
   "outputs": [],
   "source": [
    "def Pol(X, k):\n",
    "    N=np.shape(X)[0]\n",
    "    Z=np.ones((N, k+1))\n",
    "    for i in range(k):\n",
    "        Z[:,i+1]=np.power(X, i+1)\n",
    "    return Z\n"
   ]
  },
  {
   "cell_type": "code",
   "execution_count": 43,
   "metadata": {},
   "outputs": [
    {
     "name": "stdout",
     "output_type": "stream",
     "text": [
      "[3.13541795e-01 1.87032166e-01 5.88958253e-02 3.68232971e-05\n",
      " 3.41635819e-03 2.04360120e-02]\n"
     ]
    },
    {
     "data": {
      "text/plain": [
       "Text(0, 0.5, '$Ein$')"
      ]
     },
     "execution_count": 43,
     "metadata": {},
     "output_type": "execute_result"
    },
    {
     "data": {
      "image/png": "[encoded data removed]",
      "text/plain": [
       "<Figure size 432x288 with 1 Axes>"
      ]
     },
     "metadata": {
      "needs_background": "light"
     },
     "output_type": "display_data"
    }
   ],
   "source": [
    "datax=aaa[:,0]\n",
    "datay=aaa[:,1]\n",
    "eIn=np.zeros(6)\n",
    "k=[1,2,4,10,20,40]\n",
    "LRW = [np.zeros(1),np.zeros(2),np.zeros(4),np.zeros(10),np.zeros(20),np.zeros(40)]\n",
    "\n",
    "\n",
    "#print(datax);\n",
    "#print(datay);\n",
    "\n",
    "\n",
    "for i in range(6):\n",
    "    X=Pol(datax, k[i])\n",
    "    #print(X)\n",
    "\n",
    "    Y=datay\n",
    "    w_lr=np.dot(np.dot(np.linalg.inv(np.dot(X.T,X)),X.T),Y)\n",
    "    LRW[i]=w_lr\n",
    "    #print(w_lr);\n",
    "\n",
    "\n",
    "    b=np.dot(X,w_lr)\n",
    "    \n",
    "    #print(b)\n",
    "    #print(Y)\n",
    "    #print(b-Y)\n",
    "\n",
    "\n",
    "    eIn[i]=sum((b-Y)**2)/N\n",
    "\n",
    "print(eIn)\n",
    "#print(LRW);\n",
    "\n",
    "fig3=plt.figure()\n",
    "ax3=plt.axes();\n",
    "\n",
    "plt.plot(k,eIn,'g')\n",
    "\n",
    "\n",
    "ax3.set_xlabel(\"$K$\")\n",
    "ax3.set_ylabel(\"$Ein$\")\n"
   ]
  },
  {
   "cell_type": "markdown",
   "metadata": {},
   "source": [
    "### Let's calculate the error using the above line as the classifier."
   ]
  },
  {
   "cell_type": "code",
   "execution_count": 44,
   "metadata": {
    "scrolled": true
   },
   "outputs": [
    {
     "name": "stdout",
     "output_type": "stream",
     "text": [
      "10000 2\n"
     ]
    }
   ],
   "source": [
    "filename=\"test10k.txt\"\n",
    "bbb=np.loadtxt(filename, delimiter=',') \n",
    "[N2,dim]=np.shape(bbb)\n",
    "print(N2,dim)"
   ]
  },
  {
   "cell_type": "markdown",
   "metadata": {},
   "source": [
    "## Homework Problem 2\n",
    "You are given a data file of linearly separable data in $\\mathbb{R}^3$.  Plot the data and generate 20 random linear classifiers.  Calculate te error for each of the random classifiers.  What is the best and average error. Submit the plot for the best fit, the weights of the best fit, the best error and the average error."
   ]
  },
  {
   "cell_type": "code",
   "execution_count": 45,
   "metadata": {
    "scrolled": true
   },
   "outputs": [
    {
     "name": "stdout",
     "output_type": "stream",
     "text": [
      "[4.00321232e-01 1.83186078e-01 2.12347862e-01 9.53160945e+01\n",
      " 6.97121597e+02 5.26394100e+03]\n"
     ]
    },
    {
     "data": {
      "text/plain": [
       "Text(0, 0.5, '$Eout$')"
      ]
     },
     "execution_count": 45,
     "metadata": {},
     "output_type": "execute_result"
    },
    {
     "data": {
      "image/png": "[encoded data removed]",
      "text/plain": [
       "<Figure size 432x288 with 1 Axes>"
      ]
     },
     "metadata": {
      "needs_background": "light"
     },
     "output_type": "display_data"
    }
   ],
   "source": [
    "eOut=np.zeros(6)\n",
    "\n",
    "for i in range(6):  \n",
    "    testx=bbb[:,0]\n",
    "    texty=bbb[:,1]\n",
    "    \n",
    "\n",
    "\n",
    "    X=Pol(testx, k[i])\n",
    "    \n",
    "    Y=texty;\n",
    "    \n",
    "    b=np.dot(X,LRW[i])\n",
    "\n",
    "    eOut[i]=sum((b-Y)**2)/N2\n",
    "\n",
    "\n",
    "print(eOut)\n",
    "\n",
    "fig3=plt.figure()\n",
    "ax3=plt.axes();\n",
    "\n",
    "plt.plot(k,eOut,'r')\n",
    "plt.plot(k,eIn,'g')\n",
    "\n",
    "\n",
    "ax3.set_xlabel(\"$K$\")\n",
    "ax3.set_ylabel(\"$Eout$\")\n"
   ]
  },
  {
   "cell_type": "markdown",
   "metadata": {},
   "source": [
    "### Let's try do do the same thing using matrix notation\n",
    "The data is given by ddd, an $N \\times dim$ matrix.  The first $dim-1$ columns is the input and the last column is the output. Let's create a matrix $X$ for the input (the first column is all ones). "
   ]
  },
  {
   "cell_type": "code",
   "execution_count": 37,
   "metadata": {},
   "outputs": [
    {
     "name": "stdout",
     "output_type": "stream",
     "text": [
      "40 2\n"
     ]
    }
   ],
   "source": [
    "filename=\"train40.txt\"\n",
    "ccc=np.loadtxt(filename, delimiter=',') \n",
    "[N3,dim]=np.shape(ccc)\n",
    "print(N3,dim)"
   ]
  },
  {
   "cell_type": "code",
   "execution_count": 38,
   "metadata": {},
   "outputs": [
    {
     "name": "stdout",
     "output_type": "stream",
     "text": [
      "[1.18828238e+00 6.41722941e-01 4.20177532e-01 4.34566974e-03\n",
      " 2.94751967e-07 1.10168502e-03]\n"
     ]
    },
    {
     "data": {
      "text/plain": [
       "Text(0, 0.5, '$Ein$')"
      ]
     },
     "execution_count": 38,
     "metadata": {},
     "output_type": "execute_result"
    },
    {
     "data": {
      "image/png": "[encoded data removed]",
      "text/plain": [
       "<Figure size 432x288 with 1 Axes>"
      ]
     },
     "metadata": {
      "needs_background": "light"
     },
     "output_type": "display_data"
    }
   ],
   "source": [
    "trainx=ccc[:,0]\n",
    "trainy=ccc[:,1]\n",
    "eIn2=np.zeros(6)\n",
    "k=[1,2,4,10,20,40]\n",
    "LRW2 = [np.zeros(1),np.zeros(2),np.zeros(4),np.zeros(10),np.zeros(20),np.zeros(40)]\n",
    "\n",
    "\n",
    "#print(datax);\n",
    "#print(datay);\n",
    "\n",
    "\n",
    "for i in range(6):\n",
    "    X=Pol(trainx, k[i])\n",
    "    #print(X)\n",
    "\n",
    "    Y=trainy\n",
    "    w_lr=np.dot(np.dot(np.linalg.inv(np.dot(X.T,X)),X.T),Y)\n",
    "    LRW2[i]=w_lr\n",
    "    #print(w_lr);\n",
    "\n",
    "\n",
    "    b=np.dot(X,w_lr)\n",
    "    \n",
    "    #print(b)\n",
    "    #print(Y)\n",
    "\n",
    "    eIn2[i]=sum((b-Y)**2)/N\n",
    "\n",
    "print(eIn2)\n",
    "#print(LRW2);\n",
    "\n",
    "fig3=plt.figure()\n",
    "ax3=plt.axes();\n",
    "\n",
    "plt.plot(k,eIn2,'g')\n",
    "ax3.set_xlabel(\"$K$\")\n",
    "ax3.set_ylabel(\"$Ein$\")\n"
   ]
  },
  {
   "cell_type": "markdown",
   "metadata": {},
   "source": [
    "## Perceptron Learning Algorithm (PLA)"
   ]
  },
  {
   "cell_type": "code",
   "execution_count": 39,
   "metadata": {},
   "outputs": [
    {
     "name": "stdout",
     "output_type": "stream",
     "text": [
      "10000 2\n"
     ]
    }
   ],
   "source": [
    "filename=\"test10k.txt\"\n",
    "ddd=np.loadtxt(filename, delimiter=',') \n",
    "[N2,dim]=np.shape(ddd)\n",
    "print(N2,dim)"
   ]
  },
  {
   "cell_type": "code",
   "execution_count": 40,
   "metadata": {
    "scrolled": true
   },
   "outputs": [
    {
     "name": "stdout",
     "output_type": "stream",
     "text": [
      "[3.53200160e-01 1.75845509e-01 1.05066194e-01 2.07735069e-03\n",
      " 2.55767664e-06 3.81269116e-04]\n"
     ]
    },
    {
     "data": {
      "text/plain": [
       "Text(0, 0.5, '$Eout$')"
      ]
     },
     "execution_count": 40,
     "metadata": {},
     "output_type": "execute_result"
    },
    {
     "data": {
      "image/png": "[encoded data removed]",
      "text/plain": [
       "<Figure size 432x288 with 1 Axes>"
      ]
     },
     "metadata": {
      "needs_background": "light"
     },
     "output_type": "display_data"
    }
   ],
   "source": [
    "eOut2=np.zeros(6)\n",
    "\n",
    "for i in range(6):  \n",
    "    testx=ddd[:,0]\n",
    "    texty=ddd[:,1]\n",
    "    \n",
    "\n",
    "\n",
    "    X=Pol(testx, k[i])\n",
    "    \n",
    "    Y=texty\n",
    "    \n",
    "    b=np.dot(X,LRW2[i])\n",
    "\n",
    "    eOut2[i]=sum((b-Y)**2)/N2\n",
    "\n",
    "print(eOut2)\n",
    "\n",
    "fig3=plt.figure()\n",
    "ax3=plt.axes();\n",
    "\n",
    "plt.plot(k,eIn2,'g')\n",
    "plt.plot(k,eOut2,'r')\n",
    "ax3.set_xlabel(\"$K$\")\n",
    "ax3.set_ylabel(\"$Eout$\")\n"
   ]
  },
  {
   "cell_type": "markdown",
   "metadata": {},
   "source": []
  },
  {
   "cell_type": "code",
   "execution_count": null,
   "metadata": {},
   "outputs": [],
   "source": []
  },
  {
   "cell_type": "code",
   "execution_count": null,
   "metadata": {},
   "outputs": [],
   "source": []
  }
 ],
 "metadata": {
  "kernelspec": {
   "display_name": "Python 3",
   "language": "python",
   "name": "python3"
  },
  "language_info": {
   "codemirror_mode": {
    "name": "ipython",
    "version": 3
   },
   "file_extension": ".py",
   "mimetype": "text/x-python",
   "name": "python",
   "nbconvert_exporter": "python",
   "pygments_lexer": "ipython3",
   "version": "3.6.7"
  }
 },
 "nbformat": 4,
 "nbformat_minor": 2
}
